{
 "cells": [
  {
   "cell_type": "code",
   "execution_count": 3,
   "metadata": {},
   "outputs": [],
   "source": [
    "from pymongo import MongoClient\n",
    "from bson.objectid import ObjectId\n",
    "\n",
    "class AnimalShelter(object):\n",
    "    \"\"\" CRUD operations for Animal collection in MongoDB \"\"\"\n",
    "\n",
    "    def __init__(self, username, password):\n",
    "        # Initializing the MongoClient. This helps to \n",
    "        # access the MongoDB databases and collections. \n",
    "        self.client = MongoClient('mongodb://%s:%s@localhost:53742/AAC' % (username, password))\n",
    "        self.database = self.client['AAC']\n",
    "\n",
    "# Complete this create method to implement the C in CRUD.\n",
    "    def create(self, data):\n",
    "        if data is not None:\n",
    "            self.database.animals.insert_one(data)  # data should be dictionary\n",
    "        else:\n",
    "            raise Exception(\"Nothing to save, data parameter is empty\")\n",
    "\n",
    "# Create method to implement the R in CRUD. \n",
    "    def read(self, data):\n",
    "        if data is not None:\n",
    "            return self.database.animals.find(data, {\"_id:False\"})\n",
    "        else:\n",
    "            raise Exception(\"Nothing to return, data parameter is empty\")\n",
    "    \n",
    "# Create Update method\n",
    "    def update(self, find=dict(), replace=dict()):\n",
    "        if find is not None:\n",
    "            x = self.database.animals.update_many(find, {\"$set\":replace})\n",
    "            return json.dumps(str(x.modified_count) + ' records updated')\n",
    "        else:\n",
    "            raise Exception(\"Nothing to update, data parameter is empty\")\n",
    "            \n",
    "# Create delete method\n",
    "    def delete(self, data=dict()):\n",
    "        if data is not None:\n",
    "            return json.dumps(self.database.animals.remove(data), indent = 4)\n",
    "        else:\n",
    "            raise Exception(\"Nothing to delete, data parameter is empty\")         "
   ]
  },
  {
   "cell_type": "code",
   "execution_count": null,
   "metadata": {},
   "outputs": [],
   "source": []
  },
  {
   "cell_type": "code",
   "execution_count": null,
   "metadata": {},
   "outputs": [],
   "source": []
  }
 ],
 "metadata": {
  "kernelspec": {
   "display_name": "Python 3",
   "language": "python",
   "name": "python3"
  },
  "language_info": {
   "codemirror_mode": {
    "name": "ipython",
    "version": 3
   },
   "file_extension": ".py",
   "mimetype": "text/x-python",
   "name": "python",
   "nbconvert_exporter": "python",
   "pygments_lexer": "ipython3",
   "version": "3.6.9"
  }
 },
 "nbformat": 4,
 "nbformat_minor": 2
}
